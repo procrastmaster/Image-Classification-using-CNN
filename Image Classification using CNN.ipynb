{
 "cells": [
  {
   "cell_type": "markdown",
   "metadata": {},
   "source": [
    "# CNN (Convolutional Neural Network)"
   ]
  },
  {
   "cell_type": "markdown",
   "metadata": {},
   "source": [
    "* Feature Extraction: Convolution + ReLU --> Pooling layer --> Flatten to 1D Array\n",
    "* CNN Process: Feature extraction --> Classification(ANN)\n",
    "* Convolution is multiplication of dataset matrix and filter matrix\n",
    "* relu helps make the model non-linear\n",
    "* Pooling layer is used to reduce size of matrix \n",
    "    * 2X2 filter finds maximum out of the 4 elements with stride = 1 \n",
    "* Used mainly for image classification \n",
    "* CNN doesn't take care of rotation and scale hence data augmentation is used\n"
   ]
  },
  {
   "cell_type": "code",
   "execution_count": 52,
   "metadata": {},
   "outputs": [],
   "source": [
    "# import libraries\n",
    "\n",
    "import numpy as np\n",
    "import matplotlib.pyplot as plt\n",
    "\n",
    "import tensorflow as tf\n",
    "from tensorflow import keras"
   ]
  },
  {
   "cell_type": "code",
   "execution_count": 54,
   "metadata": {},
   "outputs": [
    {
     "data": {
      "text/plain": [
       "'frog'"
      ]
     },
     "execution_count": 54,
     "metadata": {},
     "output_type": "execute_result"
    },
    {
     "data": {
      "image/png": "[encoded data removed]",
      "text/plain": [
       "<Figure size 432x288 with 1 Axes>"
      ]
     },
     "metadata": {
      "needs_background": "light"
     },
     "output_type": "display_data"
    }
   ],
   "source": [
    "# import data\n",
    "(x_train, y_train) , (x_test, y_test) = keras.datasets.cifar10.load_data()\n",
    "\n",
    "# normalize data for better accuracy of neural network\n",
    "x_train = x_train / 255\n",
    "x_test = x_test / 255\n",
    "\n",
    "# flatten y_train and y_test \n",
    "y_train = y_train.flatten()\n",
    "y_test = y_test.flatten()\n",
    "\n",
    "# visualize data\n",
    "classes = [\"airplane\",\"automobile\",\"bird\",\"cat\",\"deer\",\"dog\",\"frog\",\"horse\",\"ship\",\"truck\"]\n",
    "plt.imshow(x_train[0])\n",
    "classes[y_train[0]]"
   ]
  },
  {
   "cell_type": "code",
   "execution_count": 64,
   "metadata": {},
   "outputs": [],
   "source": [
    "# Data Augmentation: Helps alter image dataset by flip, rotation, zoom to improve model accuracy\n",
    "\n",
    "img_height = 32\n",
    "img_width = 32\n",
    "\n",
    "data_augmentation = keras.Sequential([\n",
    "    keras.layers.Input(shape=(img_height, img_width, 3)),\n",
    "    keras.layers.experimental.preprocessing.RandomFlip(\"horizontal\"),\n",
    "    keras.layers.experimental.preprocessing.RandomRotation(0.1),\n",
    "    keras.layers.experimental.preprocessing.RandomZoom(0.1)\n",
    "])"
   ]
  },
  {
   "cell_type": "code",
   "execution_count": 57,
   "metadata": {},
   "outputs": [
    {
     "name": "stdout",
     "output_type": "stream",
     "text": [
      "1563/1563 [==============================] - 104s 58ms/step - loss: 1.7760 - accuracy: 0.3777\n",
      "313/313 [==============================] - 5s 10ms/step - loss: 1.3557 - accuracy: 0.5290\n"
     ]
    },
    {
     "data": {
      "text/plain": [
       "[1.3557493686676025, 0.5289999842643738]"
      ]
     },
     "execution_count": 57,
     "metadata": {},
     "output_type": "execute_result"
    }
   ],
   "source": [
    "# Convolution+relu --> MaxPooling --> Convolution+relu --> MaxPooling --> Flatten to 1D array --> Classification\n",
    "# Convolution+relu: \n",
    "    # 32 filters of size 3X3 matrix convolute with input matrix of size 32 X 32 X 3 (3 is for BGR Channel)\n",
    "    # Give inside Conv2D:\n",
    "    # padding = 'same'\n",
    "        # creates a boundary of 1 extra row and 1 extra column around the image (optional)\n",
    "    # strides = (1,1)\n",
    "        # It is how many cells does the filter move while convoluting around the input matrix (optional)\n",
    "# Batch normalization: Automatically standardizes the inputs,  accelerates the training process\n",
    "# MaxPooling: 2X2 matrix with stride = 1 finds max out of 4 elements and reduces matrix size \n",
    "# Dropout regularization helps stop overfitting of model by dropping neurons randomly \n",
    "# softmax activation function is popular in CNN for giving a probabilistic array output\n",
    "\n",
    "# compile, fit, evaluate\n",
    "\n",
    "cnn = keras.Sequential([\n",
    "    \n",
    "    data_augmentation,\n",
    "    keras.layers.Input(shape= (32,32,3)),\n",
    "    \n",
    "    keras.layers.Conv2D(filters=32, kernel_size=(3, 3), activation='relu'),\n",
    "    keras.layers.BatchNormalization(),\n",
    "    keras.layers.MaxPooling2D((2, 2)),\n",
    "    \n",
    "    keras.layers.Conv2D(filters=64, kernel_size=(3, 3), activation='relu'),\n",
    "    keras.layers.BatchNormalization(),\n",
    "    keras.layers.MaxPooling2D((2, 2)),\n",
    "    \n",
    "    keras.layers.Dropout(0.2),\n",
    "    \n",
    "    keras.layers.Flatten(),\n",
    "    keras.layers.Dense(64, activation='relu'),\n",
    "    keras.layers.Dense(10, activation='softmax')\n",
    "])\n",
    "\n",
    "cnn.compile(optimizer='adam',\n",
    "              loss='sparse_categorical_crossentropy',\n",
    "              metrics=['accuracy'])\n",
    "\n",
    "cnn.fit(x_train, y_train, epochs=1)\n",
    "\n",
    "cnn.evaluate(x_test, y_test)"
   ]
  },
  {
   "cell_type": "code",
   "execution_count": 58,
   "metadata": {},
   "outputs": [
    {
     "data": {
      "text/plain": [
       "'cat'"
      ]
     },
     "execution_count": 58,
     "metadata": {},
     "output_type": "execute_result"
    },
    {
     "data": {
      "image/png": "[encoded data removed]",
      "text/plain": [
       "<Figure size 432x288 with 1 Axes>"
      ]
     },
     "metadata": {
      "needs_background": "light"
     },
     "output_type": "display_data"
    }
   ],
   "source": [
    "# store predictions\n",
    "# image classes are stored as probabilities, argmax is used to give index of max probability of an array\n",
    "y_predict = cnn.predict(x_test)\n",
    "\n",
    "y_predict_labels = [np.argmax(i) for i in y_predict]\n",
    "\n",
    "plt.imshow(x_test[0])\n",
    "classes[y_predict_labels[0]]"
   ]
  },
  {
   "cell_type": "markdown",
   "metadata": {},
   "source": [
    "# Save, Load or Delete Deep Learning Model"
   ]
  },
  {
   "cell_type": "code",
   "execution_count": 35,
   "metadata": {},
   "outputs": [],
   "source": [
    "# model.save('tfmodel')\n",
    "# model = load_model('tfmodel')\n",
    "# del model"
   ]
  },
  {
   "cell_type": "code",
   "execution_count": null,
   "metadata": {},
   "outputs": [],
   "source": []
  }
 ],
 "metadata": {
  "kernelspec": {
   "display_name": "Python 3",
   "language": "python",
   "name": "python3"
  },
  "language_info": {
   "codemirror_mode": {
    "name": "ipython",
    "version": 3
   },
   "file_extension": ".py",
   "mimetype": "text/x-python",
   "name": "python",
   "nbconvert_exporter": "python",
   "pygments_lexer": "ipython3",
   "version": "3.8.3"
  }
 },
 "nbformat": 4,
 "nbformat_minor": 4
}
